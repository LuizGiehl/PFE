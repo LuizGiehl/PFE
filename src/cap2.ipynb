{
 "cells": [
  {
   "cell_type": "markdown",
   "metadata": {},
   "source": [
    "CAPÍTULO 2 \n",
    "\n",
    "Estrutura de dados do Pandas"
   ]
  },
  {
   "cell_type": "markdown",
   "metadata": {},
   "source": [
    "Criando Series"
   ]
  },
  {
   "cell_type": "code",
   "execution_count": 108,
   "metadata": {},
   "outputs": [
    {
     "name": "stdout",
     "output_type": "stream",
     "text": [
      "Person         Wes McKinney\n",
      "Who       Creator of Pandas\n",
      "dtype: object\n"
     ]
    }
   ],
   "source": [
    "import pandas as pd\n",
    "\n",
    "s = pd.Series(['Wes McKinney', 'Creator of Pandas'],\n",
    "              index=['Person', 'Who'])\n",
    "print(s)"
   ]
  },
  {
   "cell_type": "code",
   "execution_count": 109,
   "metadata": {},
   "outputs": [
    {
     "name": "stdout",
     "output_type": "stream",
     "text": [
      "name             NaN\n",
      "name2            NaN\n",
      "favorite food    NaN\n",
      "dtype: object\n"
     ]
    }
   ],
   "source": [
    "s = pd.Series({'fname': 'Luiz', 'lname': 'Giehl', 'favFood': 'sushi' },\n",
    "              index=['name', 'name2', 'favorite food'])\n",
    "print(s)"
   ]
  },
  {
   "cell_type": "markdown",
   "metadata": {},
   "source": [
    "Se eu passar um dict, não é preciso passar um index.\n",
    "Mas se passar o valor do index sobrescreverá a key"
   ]
  },
  {
   "cell_type": "code",
   "execution_count": 110,
   "metadata": {},
   "outputs": [
    {
     "name": "stdout",
     "output_type": "stream",
     "text": [
      "carb        banana\n",
      "protein    chicken\n",
      "fat            oil\n",
      "dtype: object\n"
     ]
    }
   ],
   "source": [
    "s = pd.Series(('banana', 'chicken', 'oil'),\n",
    "              index=['carb', 'protein', 'fat'])\n",
    "print(s)"
   ]
  },
  {
   "cell_type": "markdown",
   "metadata": {},
   "source": [
    "Criando DataFrame"
   ]
  },
  {
   "cell_type": "code",
   "execution_count": 111,
   "metadata": {},
   "outputs": [
    {
     "name": "stdout",
     "output_type": "stream",
     "text": [
      "                  Name    Ocuppation        Born        Died Age\n",
      "one  Rosaline Franklin       Chemist  1920-07-25  1958-04-26  37\n",
      "two     William Gosset  Statistician  1876-06-13  1937-10-16  61\n"
     ]
    }
   ],
   "source": [
    "scientists1 = pd.DataFrame({\n",
    "    'Name': ['Rosaline Franklin', 'William Gosset'],\n",
    "    'Ocuppation': ['Chemist', 'Statistician'],\n",
    "    'Born': ['1920-07-25', '1876-06-13'],\n",
    "    'Died': ['1958-04-26', '1937-10-16'],\n",
    "    'Age': ['37', '61']},\n",
    "    index=['one', 'two']\n",
    "    )\n",
    "print(scientists1)"
   ]
  },
  {
   "cell_type": "markdown",
   "metadata": {},
   "source": [
    "Usando o 'index=[ ]' é possivel passar um nome para as linhas.\n",
    "\n",
    "E se usarmos o parâmetro 'columns=[ ]' podemos definir a ordem das colunas passando seus nomes."
   ]
  },
  {
   "cell_type": "code",
   "execution_count": 112,
   "metadata": {},
   "outputs": [
    {
     "name": "stdout",
     "output_type": "stream",
     "text": [
      "                     Ocuppation        Born        Died  Age\n",
      "Rosaline Franklin       Chemist  1920-07-25  1958-04-26   37\n",
      "William Gosset     Statistician  1876-06-13  1937-10-16   61\n",
      "Ocuppation    Statistician\n",
      "Born            1876-06-13\n",
      "Died            1937-10-16\n",
      "Age                     61\n",
      "Name: William Gosset, dtype: object\n"
     ]
    }
   ],
   "source": [
    "scientists2 = pd.DataFrame(\n",
    "    data={\n",
    "        'Ocuppation': ['Chemist', 'Statistician'],\n",
    "        'Born': ['1920-07-25', '1876-06-13'],\n",
    "        'Died': ['1958-04-26', '1937-10-16'],\n",
    "        'Age': [37, 61]},\n",
    "        index=['Rosaline Franklin', 'William Gosset'],\n",
    "        columns=[ 'Ocuppation','Born', 'Died', 'Age']\n",
    "    )\n",
    "firstRow = scientists2.loc['William Gosset']\n",
    "\n",
    "\n",
    "print(scientists2)\n",
    "print(firstRow)"
   ]
  },
  {
   "cell_type": "code",
   "execution_count": 113,
   "metadata": {},
   "outputs": [
    {
     "name": "stdout",
     "output_type": "stream",
     "text": [
      "Index(['Ocuppation', 'Born', 'Died', 'Age'], dtype='object')\n",
      "['Statistician' '1876-06-13' '1937-10-16' 61]\n",
      "Index(['Ocuppation', 'Born', 'Died', 'Age'], dtype='object')\n",
      "Ocuppation\n",
      "Ocuppation\n"
     ]
    }
   ],
   "source": [
    "print(firstRow.index)\n",
    "print(firstRow.values)\n",
    "print(firstRow.keys())\n",
    "print(firstRow.index[0])\n",
    "print(firstRow.keys()[0])"
   ]
  },
  {
   "cell_type": "markdown",
   "metadata": {},
   "source": [
    "2.3.1.1 Métodos de Series\n"
   ]
  },
  {
   "cell_type": "code",
   "execution_count": 114,
   "metadata": {},
   "outputs": [
    {
     "name": "stdout",
     "output_type": "stream",
     "text": [
      "Rosaline Franklin    37\n",
      "William Gosset       61\n",
      "Name: Age, dtype: int64\n",
      "49.0\n",
      "37\n",
      "61\n",
      "16.97056274847714\n"
     ]
    }
   ],
   "source": [
    "ages1 = scientists2['Age']\n",
    "print(ages1)\n",
    "print(ages1.mean())\n",
    "print(ages1.min())\n",
    "print(ages1.max())\n",
    "print(ages1.std())"
   ]
  },
  {
   "cell_type": "code",
   "execution_count": 117,
   "metadata": {},
   "outputs": [
    {
     "name": "stdout",
     "output_type": "stream",
     "text": [
      "count     8.000000\n",
      "mean     59.125000\n",
      "std      18.325918\n",
      "min      37.000000\n",
      "25%      44.000000\n",
      "50%      58.500000\n",
      "75%      68.750000\n",
      "max      90.000000\n",
      "Name: Age, dtype: float64\n"
     ]
    }
   ],
   "source": [
    "scientists = pd.read_csv('../data/scientists.csv')\n",
    "ages = scientists['Age']\n",
    "print(ages.describe())"
   ]
  },
  {
   "cell_type": "code",
   "execution_count": 120,
   "metadata": {},
   "outputs": [
    {
     "name": "stdout",
     "output_type": "stream",
     "text": [
      "1    61\n",
      "2    90\n",
      "3    66\n",
      "7    77\n",
      "Name: Age, dtype: int64\n",
      "0    False\n",
      "1     True\n",
      "2     True\n",
      "3     True\n",
      "4    False\n",
      "5    False\n",
      "6    False\n",
      "7     True\n",
      "Name: Age, dtype: bool\n"
     ]
    }
   ],
   "source": [
    "print(ages[ages > ages.mean()])\n",
    "print(ages > ages.mean())"
   ]
  },
  {
   "cell_type": "code",
   "execution_count": 125,
   "metadata": {},
   "outputs": [
    {
     "name": "stdout",
     "output_type": "stream",
     "text": [
      "0          Chemist\n",
      "1     Statistician\n",
      "4        Biologist\n",
      "5        Physician\n",
      "7    Mathematician\n",
      "Name: Occupation, dtype: object\n"
     ]
    }
   ],
   "source": [
    "manual_bool_values = [True, True, False, False, True, True, False, True]\n",
    "print(scientists.Occupation[manual_bool_values])"
   ]
  },
  {
   "cell_type": "markdown",
   "metadata": {},
   "source": [
    "2.3.3.1\n",
    "pag 69"
   ]
  }
 ],
 "metadata": {
  "kernelspec": {
   "display_name": "pfe_certo",
   "language": "python",
   "name": "python3"
  },
  "language_info": {
   "codemirror_mode": {
    "name": "ipython",
    "version": 3
   },
   "file_extension": ".py",
   "mimetype": "text/x-python",
   "name": "python",
   "nbconvert_exporter": "python",
   "pygments_lexer": "ipython3",
   "version": "3.12.3"
  }
 },
 "nbformat": 4,
 "nbformat_minor": 2
}
