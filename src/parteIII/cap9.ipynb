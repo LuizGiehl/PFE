{
 "cells": [
  {
   "cell_type": "markdown",
   "metadata": {},
   "source": [
    "CAPÍTULO 9 - Apply\n",
    "-\n"
   ]
  },
  {
   "cell_type": "markdown",
   "metadata": {},
   "source": [
    "Conhecer apply é um conceito fundamental no processo de limpeza de dados. Apply aceita uma função e execulta em cada linha ou coluna do dataframe simultamneamente."
   ]
  },
  {
   "cell_type": "markdown",
   "metadata": {},
   "source": [
    "9.3 Apply (básico)"
   ]
  },
  {
   "cell_type": "code",
   "execution_count": 116,
   "metadata": {},
   "outputs": [
    {
     "name": "stdout",
     "output_type": "stream",
     "text": [
      "    a   b\n",
      "0  10  20\n",
      "1  20  30\n",
      "2  30  40\n"
     ]
    }
   ],
   "source": [
    "import pandas as pd\n",
    "\n",
    "df = pd.DataFrame({'a': [10,20,30],\n",
    "                   'b': [20,30,40]})\n",
    "\n",
    "print(df)"
   ]
  },
  {
   "cell_type": "code",
   "execution_count": 117,
   "metadata": {},
   "outputs": [],
   "source": [
    "def my_sq(x):\n",
    "    return x ** 2"
   ]
  },
  {
   "cell_type": "markdown",
   "metadata": {},
   "source": [
    "Podemos aplicar funções com apply em uma Series(isto é, uma coluna ou linha individual)"
   ]
  },
  {
   "cell_type": "code",
   "execution_count": 118,
   "metadata": {},
   "outputs": [
    {
     "name": "stdout",
     "output_type": "stream",
     "text": [
      "0    100\n",
      "1    400\n",
      "2    900\n",
      "Name: a, dtype: int64\n"
     ]
    }
   ],
   "source": [
    "print(df['a'] ** 2)"
   ]
  },
  {
   "cell_type": "markdown",
   "metadata": {},
   "source": [
    "9.3.1 apply em uma Series"
   ]
  },
  {
   "cell_type": "markdown",
   "metadata": {},
   "source": [
    "Em nosso exemplo, se o subconjunto for composto por uma só coluna ou linha, o seu type será uma Series do Pandas"
   ]
  },
  {
   "cell_type": "markdown",
   "metadata": {},
   "source": [
    "Series tem um método chamado apply, para usá-lo, devemos passar a função que queremos usar em cada elemento da Series."
   ]
  },
  {
   "cell_type": "code",
   "execution_count": 119,
   "metadata": {},
   "outputs": [
    {
     "name": "stdout",
     "output_type": "stream",
     "text": [
      "0    100\n",
      "1    400\n",
      "2    900\n",
      "Name: a, dtype: int64\n"
     ]
    }
   ],
   "source": [
    "sq = df['a'].apply(my_sq)\n",
    "\n",
    "print(sq)"
   ]
  },
  {
   "cell_type": "markdown",
   "metadata": {},
   "source": [
    "Observe que não precisamos de parênteses quando passamos a função"
   ]
  },
  {
   "cell_type": "markdown",
   "metadata": {},
   "source": [
    "Vamos fazer um outro exemplo mas agora com uma função que use dois parâmetros"
   ]
  },
  {
   "cell_type": "code",
   "execution_count": 120,
   "metadata": {},
   "outputs": [],
   "source": [
    "def my_exp(x, e):\n",
    "    return x ** e"
   ]
  },
  {
   "cell_type": "markdown",
   "metadata": {},
   "source": [
    "Se quisermos usar a função devos passar um segundo parâmetro. Para isso basta passar o segundo argumento como uma Keyword Argument (argumento nomeado) para apply:"
   ]
  },
  {
   "cell_type": "code",
   "execution_count": 121,
   "metadata": {},
   "outputs": [
    {
     "name": "stdout",
     "output_type": "stream",
     "text": [
      "0     1000\n",
      "1     8000\n",
      "2    27000\n",
      "Name: a, dtype: int64\n"
     ]
    }
   ],
   "source": [
    "ex = df['a'].apply(my_exp, e=3)\n",
    "\n",
    "print(ex)"
   ]
  },
  {
   "cell_type": "markdown",
   "metadata": {},
   "source": [
    "9.3.2 apply em um DataFrame"
   ]
  },
  {
   "cell_type": "code",
   "execution_count": 122,
   "metadata": {},
   "outputs": [
    {
     "name": "stdout",
     "output_type": "stream",
     "text": [
      "    a   b\n",
      "0  10  20\n",
      "1  20  30\n",
      "2  30  40\n"
     ]
    }
   ],
   "source": [
    "print(df)"
   ]
  },
  {
   "cell_type": "markdown",
   "metadata": {},
   "source": [
    "DataFrames têm pelo menos duas dimensões, então devemos expecificar em qual eixo em que a função será aplicada"
   ]
  },
  {
   "cell_type": "code",
   "execution_count": 123,
   "metadata": {},
   "outputs": [],
   "source": [
    "def printMe(x):\n",
    "    print(x)"
   ]
  },
  {
   "cell_type": "markdown",
   "metadata": {},
   "source": [
    "9.3.2.1 Operações em colunas"
   ]
  },
  {
   "cell_type": "markdown",
   "metadata": {},
   "source": [
    "Use o parâmetro axis=0 em apply para trabalhar com colunas"
   ]
  },
  {
   "cell_type": "code",
   "execution_count": 124,
   "metadata": {},
   "outputs": [
    {
     "name": "stdout",
     "output_type": "stream",
     "text": [
      "0    10\n",
      "1    20\n",
      "2    30\n",
      "Name: a, dtype: int64\n",
      "0    20\n",
      "1    30\n",
      "2    40\n",
      "Name: b, dtype: int64\n"
     ]
    },
    {
     "data": {
      "text/plain": [
       "a    None\n",
       "b    None\n",
       "dtype: object"
      ]
     },
     "execution_count": 124,
     "metadata": {},
     "output_type": "execute_result"
    }
   ],
   "source": [
    "df.apply(printMe, axis=0)"
   ]
  },
  {
   "cell_type": "markdown",
   "metadata": {},
   "source": [
    "Quando aplicamos uma função em um DataFrame, o eixo todo é passado como primeiro argumento da função"
   ]
  },
  {
   "cell_type": "markdown",
   "metadata": {},
   "source": [
    "Para ilustrar melhor vamos escrever uma função que calcule a média de três números"
   ]
  },
  {
   "cell_type": "code",
   "execution_count": 125,
   "metadata": {},
   "outputs": [],
   "source": [
    "def avg3(x, y, z):\n",
    "    return (x + y + z) / 3"
   ]
  },
  {
   "cell_type": "markdown",
   "metadata": {},
   "source": [
    "Se tentarmos aplicar essa função em nossar colunas veremos um erro"
   ]
  },
  {
   "cell_type": "code",
   "execution_count": 126,
   "metadata": {},
   "outputs": [
    {
     "data": {
      "text/plain": [
       "'\\nprint(df.apply(avg3))\\n'"
      ]
     },
     "execution_count": 126,
     "metadata": {},
     "output_type": "execute_result"
    }
   ],
   "source": [
    "\"\"\"\n",
    "print(df.apply(avg3))\n",
    "\"\"\""
   ]
  },
  {
   "cell_type": "markdown",
   "metadata": {},
   "source": [
    "A função recebe o primeiro argumento, mas deixa de receber y e z, isso porque quando usamos apply a coluna toda é passada como primeiro argumento"
   ]
  },
  {
   "cell_type": "markdown",
   "metadata": {},
   "source": [
    "Para que essa função seja apropriada ao método apply, será nescessário reescrever algumas partes"
   ]
  },
  {
   "cell_type": "code",
   "execution_count": 127,
   "metadata": {},
   "outputs": [],
   "source": [
    "def avg3Apply(cool):\n",
    "    x = cool[0]\n",
    "    y = cool[1]\n",
    "    z = cool[2]\n",
    "\n",
    "    return (x + y + z) / 3"
   ]
  },
  {
   "cell_type": "code",
   "execution_count": 128,
   "metadata": {},
   "outputs": [
    {
     "name": "stdout",
     "output_type": "stream",
     "text": [
      "a    20.0\n",
      "b    30.0\n",
      "dtype: float64\n"
     ]
    }
   ],
   "source": [
    "print(df.apply(avg3Apply))"
   ]
  },
  {
   "cell_type": "markdown",
   "metadata": {},
   "source": [
    "9.3.2.2 Operações em linhas"
   ]
  },
  {
   "cell_type": "markdown",
   "metadata": {},
   "source": [
    "As operações em linhas funcionam como as operações me colunas, com a diferença que agora passamos axis=1,  \n",
    "ao invés de a primeira coluna interira ser passado como primeiro parâmetro, agora a primeira linha inteira é passada como primeiro parâmetro"
   ]
  },
  {
   "cell_type": "markdown",
   "metadata": {},
   "source": [
    "No entanto, a função que escrevemos não funcionará para as linhas, poís temos apenas 2 números em uma linha, e a função precisa de 3 para funcionar"
   ]
  },
  {
   "cell_type": "code",
   "execution_count": 129,
   "metadata": {},
   "outputs": [
    {
     "data": {
      "text/plain": [
       "'\\nprint(df.apply(avg3Apply, axis=1))\\n'"
      ]
     },
     "execution_count": 129,
     "metadata": {},
     "output_type": "execute_result"
    }
   ],
   "source": [
    "\"\"\"\n",
    "print(df.apply(avg3Apply, axis=1))\n",
    "\"\"\" "
   ]
  },
  {
   "cell_type": "code",
   "execution_count": 130,
   "metadata": {},
   "outputs": [],
   "source": [
    "def avg2Apply(row):\n",
    "    x = row[0]\n",
    "    y = row[1]\n",
    "\n",
    "    return (x + y) / 2"
   ]
  },
  {
   "cell_type": "code",
   "execution_count": 131,
   "metadata": {},
   "outputs": [
    {
     "name": "stdout",
     "output_type": "stream",
     "text": [
      "0    15.0\n",
      "1    25.0\n",
      "2    35.0\n",
      "dtype: float64\n"
     ]
    },
    {
     "name": "stderr",
     "output_type": "stream",
     "text": [
      "C:\\Users\\User\\AppData\\Local\\Temp\\ipykernel_23476\\2954858172.py:2: FutureWarning: Series.__getitem__ treating keys as positions is deprecated. In a future version, integer keys will always be treated as labels (consistent with DataFrame behavior). To access a value by position, use `ser.iloc[pos]`\n",
      "  x = row[0]\n",
      "C:\\Users\\User\\AppData\\Local\\Temp\\ipykernel_23476\\2954858172.py:3: FutureWarning: Series.__getitem__ treating keys as positions is deprecated. In a future version, integer keys will always be treated as labels (consistent with DataFrame behavior). To access a value by position, use `ser.iloc[pos]`\n",
      "  y = row[1]\n"
     ]
    }
   ],
   "source": [
    "print(df.apply(avg2Apply, axis=1))"
   ]
  },
  {
   "cell_type": "markdown",
   "metadata": {},
   "source": [
    "9.4 apply (mais avançado)"
   ]
  },
  {
   "cell_type": "markdown",
   "metadata": {},
   "source": [
    "A biblioteca seaborn tem um conjunto de dados embutido chamdo titanic que informa se algum indivíduo sobreviveu ao naufrágio do Titanic"
   ]
  },
  {
   "cell_type": "code",
   "execution_count": 132,
   "metadata": {},
   "outputs": [],
   "source": [
    "import seaborn as sns\n",
    "\n",
    "titanic = sns.load_dataset(\"titanic\")"
   ]
  },
  {
   "cell_type": "code",
   "execution_count": 133,
   "metadata": {},
   "outputs": [
    {
     "name": "stdout",
     "output_type": "stream",
     "text": [
      "<class 'pandas.core.frame.DataFrame'>\n",
      "RangeIndex: 891 entries, 0 to 890\n",
      "Data columns (total 15 columns):\n",
      " #   Column       Non-Null Count  Dtype   \n",
      "---  ------       --------------  -----   \n",
      " 0   survived     891 non-null    int64   \n",
      " 1   pclass       891 non-null    int64   \n",
      " 2   sex          891 non-null    object  \n",
      " 3   age          714 non-null    float64 \n",
      " 4   sibsp        891 non-null    int64   \n",
      " 5   parch        891 non-null    int64   \n",
      " 6   fare         891 non-null    float64 \n",
      " 7   embarked     889 non-null    object  \n",
      " 8   class        891 non-null    category\n",
      " 9   who          891 non-null    object  \n",
      " 10  adult_male   891 non-null    bool    \n",
      " 11  deck         203 non-null    category\n",
      " 12  embark_town  889 non-null    object  \n",
      " 13  alive        891 non-null    object  \n",
      " 14  alone        891 non-null    bool    \n",
      "dtypes: bool(2), category(2), float64(2), int64(4), object(5)\n",
      "memory usage: 80.7+ KB\n",
      "None\n"
     ]
    }
   ],
   "source": [
    "print(titanic.info())"
   ]
  },
  {
   "cell_type": "markdown",
   "metadata": {},
   "source": [
    "Uma forma de usar apply é calcular quatos valores null ou NaN há em nossos dados, assim como o percentual de casos completos em cada coluna ou cada linha.  \n",
    "Vamos escrever algumas funções"
   ]
  },
  {
   "cell_type": "markdown",
   "metadata": {},
   "source": [
    "Vec = Vector\n",
    "-\n"
   ]
  },
  {
   "cell_type": "markdown",
   "metadata": {},
   "source": [
    "- Número de valores ausentes"
   ]
  },
  {
   "cell_type": "code",
   "execution_count": 134,
   "metadata": {},
   "outputs": [],
   "source": [
    "import numpy as np\n",
    "\n",
    "def count_missing(vec):\n",
    "\n",
    "    #obtém um vetor com valores True/Flase conforme o valor estiver ausente ou não\n",
    "    nullVec = pd.isnull(vec)\n",
    "\n",
    "    #soma todos os valore que forem nulos\n",
    "    nullCont = sum(nullVec)\n",
    "\n",
    "    return nullCont"
   ]
  },
  {
   "cell_type": "markdown",
   "metadata": {},
   "source": [
    "- Proporção de valors ausentes"
   ]
  },
  {
   "cell_type": "code",
   "execution_count": 135,
   "metadata": {},
   "outputs": [],
   "source": [
    "def prop_missing(vec):\n",
    "\n",
    "    #numerador: número de valres ausentes\n",
    "    num = count_missing(vec)\n",
    "\n",
    "    #denominador: número total de valores em um vetor\n",
    "    #precisamos contabilizar também os valores ausentes\n",
    "    dem = vec.size\n",
    "\n",
    "    return num / dem"
   ]
  },
  {
   "cell_type": "markdown",
   "metadata": {},
   "source": [
    "- Proporção de valores completos"
   ]
  },
  {
   "cell_type": "code",
   "execution_count": 136,
   "metadata": {},
   "outputs": [],
   "source": [
    "#porcentagem de valores não ausentes\n",
    "def prop_complete(vec):\n",
    "\n",
    "    return 1 - prop_missing(vec)"
   ]
  },
  {
   "cell_type": "markdown",
   "metadata": {},
   "source": [
    "9.4.1 Operações em coluna "
   ]
  },
  {
   "cell_type": "markdown",
   "metadata": {},
   "source": [
    "Vamo aplicar nossas funções me cada coluna dos nossos dados"
   ]
  },
  {
   "cell_type": "code",
   "execution_count": 137,
   "metadata": {},
   "outputs": [
    {
     "name": "stdout",
     "output_type": "stream",
     "text": [
      "survived         0\n",
      "pclass           0\n",
      "sex              0\n",
      "age            177\n",
      "sibsp            0\n",
      "parch            0\n",
      "fare             0\n",
      "embarked         2\n",
      "class            0\n",
      "who              0\n",
      "adult_male       0\n",
      "deck           688\n",
      "embark_town      2\n",
      "alive            0\n",
      "alone            0\n",
      "dtype: int64 \n",
      "\n",
      "survived       0.000000\n",
      "pclass         0.000000\n",
      "sex            0.000000\n",
      "age            0.198653\n",
      "sibsp          0.000000\n",
      "parch          0.000000\n",
      "fare           0.000000\n",
      "embarked       0.002245\n",
      "class          0.000000\n",
      "who            0.000000\n",
      "adult_male     0.000000\n",
      "deck           0.772166\n",
      "embark_town    0.002245\n",
      "alive          0.000000\n",
      "alone          0.000000\n",
      "dtype: float64 \n",
      "\n",
      "survived       1.000000\n",
      "pclass         1.000000\n",
      "sex            1.000000\n",
      "age            0.801347\n",
      "sibsp          1.000000\n",
      "parch          1.000000\n",
      "fare           1.000000\n",
      "embarked       0.997755\n",
      "class          1.000000\n",
      "who            1.000000\n",
      "adult_male     1.000000\n",
      "deck           0.227834\n",
      "embark_town    0.997755\n",
      "alive          1.000000\n",
      "alone          1.000000\n",
      "dtype: float64 \n",
      "\n"
     ]
    }
   ],
   "source": [
    "cmis_col = titanic.apply(count_missing)\n",
    "pmis_col = titanic.apply(prop_missing)\n",
    "pcom_col = titanic.apply(prop_complete)\n",
    "\n",
    "print(cmis_col, '\\n')\n",
    "print(pmis_col, '\\n')\n",
    "print(pcom_col, '\\n')"
   ]
  },
  {
   "cell_type": "markdown",
   "metadata": {},
   "source": [
    "Como temos contadores de valores ausentes podemos determinar se uma coluna é ou não uma opção viável para análise.  \n",
    "Exemplo, na coluna embark_town, podemos ver que somente dois valores estão ausentes, e podemos verificar se estão assim aleatoriamente ou se há algum motivo especial para isso"
   ]
  },
  {
   "cell_type": "code",
   "execution_count": 138,
   "metadata": {},
   "outputs": [
    {
     "name": "stdout",
     "output_type": "stream",
     "text": [
      "     survived  pclass     sex   age  sibsp  parch  fare embarked  class  \\\n",
      "61          1       1  female  38.0      0      0  80.0      NaN  First   \n",
      "829         1       1  female  62.0      0      0  80.0      NaN  First   \n",
      "\n",
      "       who  adult_male deck embark_town alive  alone  \n",
      "61   woman       False    B         NaN   yes   True  \n",
      "829  woman       False    B         NaN   yes   True  \n"
     ]
    }
   ],
   "source": [
    "print(titanic.loc[pd.isnull(titanic.embark_town), :])"
   ]
  },
  {
   "cell_type": "markdown",
   "metadata": {},
   "source": [
    "Outra observação é que a variável deck em 688 (77,2%) de valores ausentes. A menos que tenha mais investigações, é seguro afirmar que esses dados não são úteis para analise"
   ]
  },
  {
   "cell_type": "markdown",
   "metadata": {},
   "source": [
    "9.4.2 Operações em linhas"
   ]
  },
  {
   "cell_type": "markdown",
   "metadata": {},
   "source": [
    "Como as funções são vetorizadas podemos passar nas linhas sem alterá-las"
   ]
  },
  {
   "cell_type": "code",
   "execution_count": 139,
   "metadata": {},
   "outputs": [
    {
     "name": "stdout",
     "output_type": "stream",
     "text": [
      "0      1\n",
      "1      0\n",
      "2      1\n",
      "3      0\n",
      "4      1\n",
      "      ..\n",
      "886    1\n",
      "887    0\n",
      "888    2\n",
      "889    0\n",
      "890    1\n",
      "Length: 891, dtype: int64 \n",
      "\n",
      "0      0.066667\n",
      "1      0.000000\n",
      "2      0.066667\n",
      "3      0.000000\n",
      "4      0.066667\n",
      "         ...   \n",
      "886    0.066667\n",
      "887    0.000000\n",
      "888    0.133333\n",
      "889    0.000000\n",
      "890    0.066667\n",
      "Length: 891, dtype: float64 \n",
      "\n",
      "0      0.933333\n",
      "1      1.000000\n",
      "2      0.933333\n",
      "3      1.000000\n",
      "4      0.933333\n",
      "         ...   \n",
      "886    0.933333\n",
      "887    1.000000\n",
      "888    0.866667\n",
      "889    1.000000\n",
      "890    0.933333\n",
      "Length: 891, dtype: float64 \n",
      "\n"
     ]
    }
   ],
   "source": [
    "cmis_row = titanic.apply(count_missing, axis=1)\n",
    "pmis_row = titanic.apply(prop_missing, axis=1)\n",
    "pcom_row = titanic.apply(prop_complete, axis=1)\n",
    "\n",
    "print(cmis_row, '\\n')\n",
    "print(pmis_row, '\\n')\n",
    "print(pcom_row, '\\n')"
   ]
  },
  {
   "cell_type": "markdown",
   "metadata": {},
   "source": [
    "Uma tarefa que podemos fazer é verificar se há alguma linha em nossos dados que tenha diversos valores ausentes"
   ]
  },
  {
   "cell_type": "code",
   "execution_count": 140,
   "metadata": {},
   "outputs": [
    {
     "name": "stdout",
     "output_type": "stream",
     "text": [
      "1    549\n",
      "0    182\n",
      "2    160\n",
      "Name: count, dtype: int64\n"
     ]
    }
   ],
   "source": [
    "print(cmis_row.value_counts())"
   ]
  },
  {
   "cell_type": "markdown",
   "metadata": {},
   "source": [
    "Como estamos usando apply podemos criar uma nova coluna contendo esses valores"
   ]
  },
  {
   "cell_type": "code",
   "execution_count": 141,
   "metadata": {},
   "outputs": [
    {
     "name": "stdout",
     "output_type": "stream",
     "text": [
      "   survived  pclass     sex   age  sibsp  parch     fare embarked  class  \\\n",
      "0         0       3    male  22.0      1      0   7.2500        S  Third   \n",
      "1         1       1  female  38.0      1      0  71.2833        C  First   \n",
      "2         1       3  female  26.0      0      0   7.9250        S  Third   \n",
      "3         1       1  female  35.0      1      0  53.1000        S  First   \n",
      "4         0       3    male  35.0      0      0   8.0500        S  Third   \n",
      "\n",
      "     who  adult_male deck  embark_town alive  alone  num_missing  \n",
      "0    man        True  NaN  Southampton    no  False            1  \n",
      "1  woman       False    C    Cherbourg   yes  False            0  \n",
      "2  woman       False  NaN  Southampton   yes   True            1  \n",
      "3  woman       False    C  Southampton   yes  False            0  \n",
      "4    man        True  NaN  Southampton    no   True            1  \n"
     ]
    }
   ],
   "source": [
    "titanic['num_missing'] = titanic.apply(count_missing, axis=1)\n",
    "\n",
    "print(titanic.head())"
   ]
  },
  {
   "cell_type": "code",
   "execution_count": 142,
   "metadata": {},
   "outputs": [
    {
     "name": "stdout",
     "output_type": "stream",
     "text": [
      "     survived  pclass     sex   age  sibsp  parch     fare embarked  class  \\\n",
      "485         0       3  female   NaN      3      1  25.4667        S  Third   \n",
      "680         0       3  female   NaN      0      0   8.1375        Q  Third   \n",
      "760         0       3    male   NaN      0      0  14.5000        S  Third   \n",
      "878         0       3    male   NaN      0      0   7.8958        S  Third   \n",
      "274         1       3  female   NaN      0      0   7.7500        Q  Third   \n",
      "250         0       3    male   NaN      0      0   7.2500        S  Third   \n",
      "198         1       3  female   NaN      0      0   7.7500        Q  Third   \n",
      "522         0       3    male   NaN      0      0   7.2250        C  Third   \n",
      "829         1       1  female  62.0      0      0  80.0000      NaN  First   \n",
      "502         0       3  female   NaN      0      0   7.6292        Q  Third   \n",
      "\n",
      "       who  adult_male deck  embark_town alive  alone  num_missing  \n",
      "485  woman       False  NaN  Southampton    no  False            2  \n",
      "680  woman       False  NaN   Queenstown    no   True            2  \n",
      "760    man        True  NaN  Southampton    no   True            2  \n",
      "878    man        True  NaN  Southampton    no   True            2  \n",
      "274  woman       False  NaN   Queenstown   yes   True            2  \n",
      "250    man        True  NaN  Southampton    no   True            2  \n",
      "198  woman       False  NaN   Queenstown   yes   True            2  \n",
      "522    man        True  NaN    Cherbourg    no   True            2  \n",
      "829  woman       False    B          NaN   yes   True            2  \n",
      "502  woman       False  NaN   Queenstown    no   True            2  \n"
     ]
    }
   ],
   "source": [
    "print(titanic.loc[titanic.num_missing > 1, :].sample(10))"
   ]
  },
  {
   "cell_type": "markdown",
   "metadata": {},
   "source": [
    "9.5 Funções vetorizadas"
   ]
  },
  {
   "cell_type": "markdown",
   "metadata": {},
   "source": [
    "Quando usamos apply podemos fazer uma função atuar coluna a coluna ou linha a linha, porém as vezes será necessario reescrever a função. No entanto nem sempre será viável reescrever uma função inteira, mas podemos tirar proveito da função vectorize e de um decorador para vetorizar qualquer função"
   ]
  },
  {
   "cell_type": "code",
   "execution_count": 143,
   "metadata": {},
   "outputs": [
    {
     "name": "stdout",
     "output_type": "stream",
     "text": [
      "    a   b\n",
      "0  10  20\n",
      "1  20  30\n",
      "2  30  40\n"
     ]
    }
   ],
   "source": [
    "print(df)"
   ]
  },
  {
   "cell_type": "code",
   "execution_count": 144,
   "metadata": {},
   "outputs": [],
   "source": [
    "def avg2(x, y):\n",
    "    return (x+y) / 2"
   ]
  },
  {
   "cell_type": "code",
   "execution_count": 145,
   "metadata": {},
   "outputs": [
    {
     "name": "stdout",
     "output_type": "stream",
     "text": [
      "0    15.0\n",
      "1    25.0\n",
      "2    35.0\n",
      "dtype: float64\n"
     ]
    }
   ],
   "source": [
    "print(avg2(df['a'], df['b']))"
   ]
  },
  {
   "cell_type": "markdown",
   "metadata": {},
   "source": [
    "Essa abordagem funciona porque os cáculos propriamente ditos da nossa função são inerentemente vetorizados. Ou seja se somarmos duas colunas numéricas o Pandas e o numpy fará a soma entre os elementos de modo automático"
   ]
  },
  {
   "cell_type": "markdown",
   "metadata": {},
   "source": [
    "Vamos modificar a função e fazer um cálculo não vetorizado"
   ]
  },
  {
   "cell_type": "code",
   "execution_count": 146,
   "metadata": {},
   "outputs": [],
   "source": [
    "import numpy as np\n",
    "\n",
    "def avg2Mod(x, y):\n",
    "    \"\"\"\n",
    "    Calcula a média a menos que x seja 20\n",
    "    \"\"\"\n",
    "    if (x == 20):\n",
    "        return(np.nan)\n",
    "    else:\n",
    "        return (x + y) / 2"
   ]
  },
  {
   "cell_type": "markdown",
   "metadata": {},
   "source": [
    "Se executada passar uma Series a função causará erro"
   ]
  },
  {
   "cell_type": "code",
   "execution_count": 147,
   "metadata": {},
   "outputs": [
    {
     "data": {
      "text/plain": [
       "\"\\nprint(avg2Mod(df['a'], df['b']))\\n\""
      ]
     },
     "execution_count": 147,
     "metadata": {},
     "output_type": "execute_result"
    }
   ],
   "source": [
    "\"\"\"\n",
    "print(avg2Mod(df['a'], df['b']))\n",
    "\"\"\""
   ]
  },
  {
   "cell_type": "code",
   "execution_count": 148,
   "metadata": {},
   "outputs": [
    {
     "name": "stdout",
     "output_type": "stream",
     "text": [
      "15.0\n",
      "nan\n"
     ]
    }
   ],
   "source": [
    "print(avg2Mod(10, 20))\n",
    "print(avg2Mod(20, 20))"
   ]
  },
  {
   "cell_type": "markdown",
   "metadata": {},
   "source": [
    "9.5.1 Usando o numpy"
   ]
  },
  {
   "cell_type": "markdown",
   "metadata": {},
   "source": [
    "Queremos alterar nossa função de modo que ao receber um vetor, ela faça os cálculos elemento a elemento. Passar isso podemos usar a função vectorize do numpy"
   ]
  },
  {
   "cell_type": "code",
   "execution_count": 149,
   "metadata": {},
   "outputs": [
    {
     "name": "stdout",
     "output_type": "stream",
     "text": [
      "[15. nan 35.]\n"
     ]
    }
   ],
   "source": [
    "avg2Mod_vec = np.vectorize(avg2Mod)\n",
    "\n",
    "print(avg2Mod_vec(df['a'], df['b']))"
   ]
  },
  {
   "cell_type": "markdown",
   "metadata": {},
   "source": [
    "Esse método funcionará bem se você não tiver o código-fonte de uma função. No entanto se tiver escrevendo a própria função  poderá usar um decorador Python para vetorizar \"automaticamente\""
   ]
  },
  {
   "cell_type": "code",
   "execution_count": 150,
   "metadata": {},
   "outputs": [],
   "source": [
    "#para usar o decorador vectorize usamos @ antes da nossa def function\n",
    "@np.vectorize\n",
    "def v_avg_2_mod(x, y):\n",
    "    if (x == 20):\n",
    "        return(np.NaN)\n",
    "    else:\n",
    "        return (x+y)/2"
   ]
  },
  {
   "cell_type": "code",
   "execution_count": 151,
   "metadata": {},
   "outputs": [
    {
     "name": "stdout",
     "output_type": "stream",
     "text": [
      "[15. nan 35.]\n"
     ]
    }
   ],
   "source": [
    "#podemos usar diretamente a função vetorizada sem criar uma nova\n",
    "\n",
    "print(v_avg_2_mod(df['a'], df['b']))"
   ]
  },
  {
   "cell_type": "markdown",
   "metadata": {},
   "source": [
    "9.5.2 Usando a biblioteca numba"
   ]
  },
  {
   "cell_type": "markdown",
   "metadata": {},
   "source": [
    "A biblioteca numba tem o mesmo decorador vectorize que a numpy, e a usa da mesma forma: @ numba.vectorize"
   ]
  },
  {
   "cell_type": "markdown",
   "metadata": {},
   "source": [
    "9.6 Funções lambda"
   ]
  },
  {
   "cell_type": "markdown",
   "metadata": {},
   "source": [
    "As vezes a função usado no método apply é tão simples que não haverá necessidade de criar uma função separada."
   ]
  },
  {
   "cell_type": "code",
   "execution_count": 157,
   "metadata": {},
   "outputs": [
    {
     "name": "stdout",
     "output_type": "stream",
     "text": [
      "                               0\n",
      "0     William Hartnell (1963-66)\n",
      "1    Patrick Troughton (1966-69)\n",
      "2          Jon Pertwee (1970 74)\n",
      "3            Tom Baker (1974-81)\n",
      "4        Peter Davison (1982-84)\n",
      "5          Colin Baker (1984-86)\n",
      "6      Sylvester McCoy (1987-89)\n",
      "7             Paul McGann (1996)\n",
      "8   Christopher Eccleston (2005)\n",
      "9        David Tennant (2005-10)\n",
      "10          Matt Smith (2010-13)\n",
      "11     Peter Capaldi (2014-2017)\n",
      "12        Jodie Whittaker (2017)\n"
     ]
    }
   ],
   "source": [
    "import regex \n",
    "\n",
    "docs = pd.read_csv('../../data/doctors.csv', header=None)\n",
    "\n",
    "print(docs)"
   ]
  },
  {
   "cell_type": "code",
   "execution_count": 159,
   "metadata": {},
   "outputs": [],
   "source": [
    "p = regex.compile(r'\\w+\\s+\\w+')\n",
    "\n",
    "def get_name(s):\n",
    "    return p.match(s).group()\n",
    "\n",
    "docs['name_func'] = docs[0].apply(get_name)"
   ]
  },
  {
   "cell_type": "code",
   "execution_count": 160,
   "metadata": {},
   "outputs": [
    {
     "name": "stdout",
     "output_type": "stream",
     "text": [
      "                               0              name_func\n",
      "0     William Hartnell (1963-66)       William Hartnell\n",
      "1    Patrick Troughton (1966-69)      Patrick Troughton\n",
      "2          Jon Pertwee (1970 74)            Jon Pertwee\n",
      "3            Tom Baker (1974-81)              Tom Baker\n",
      "4        Peter Davison (1982-84)          Peter Davison\n",
      "5          Colin Baker (1984-86)            Colin Baker\n",
      "6      Sylvester McCoy (1987-89)        Sylvester McCoy\n",
      "7             Paul McGann (1996)            Paul McGann\n",
      "8   Christopher Eccleston (2005)  Christopher Eccleston\n",
      "9        David Tennant (2005-10)          David Tennant\n",
      "10          Matt Smith (2010-13)             Matt Smith\n",
      "11     Peter Capaldi (2014-2017)          Peter Capaldi\n",
      "12        Jodie Whittaker (2017)        Jodie Whittaker\n"
     ]
    }
   ],
   "source": [
    "print(docs)"
   ]
  },
  {
   "cell_type": "markdown",
   "metadata": {},
   "source": [
    "Podemos ver que está é uma função muito simples de uma única linha. Em geral quando isso acontece podemos optar por escrevê-la diretamente no método apply,   \n",
    "essa abordagem é conhecida como o uso de funções lambda."
   ]
  },
  {
   "cell_type": "code",
   "execution_count": 162,
   "metadata": {},
   "outputs": [
    {
     "name": "stdout",
     "output_type": "stream",
     "text": [
      "                               0              name_func              name_lamb\n",
      "0     William Hartnell (1963-66)       William Hartnell       William Hartnell\n",
      "1    Patrick Troughton (1966-69)      Patrick Troughton      Patrick Troughton\n",
      "2          Jon Pertwee (1970 74)            Jon Pertwee            Jon Pertwee\n",
      "3            Tom Baker (1974-81)              Tom Baker              Tom Baker\n",
      "4        Peter Davison (1982-84)          Peter Davison          Peter Davison\n",
      "5          Colin Baker (1984-86)            Colin Baker            Colin Baker\n",
      "6      Sylvester McCoy (1987-89)        Sylvester McCoy        Sylvester McCoy\n",
      "7             Paul McGann (1996)            Paul McGann            Paul McGann\n",
      "8   Christopher Eccleston (2005)  Christopher Eccleston  Christopher Eccleston\n",
      "9        David Tennant (2005-10)          David Tennant          David Tennant\n",
      "10          Matt Smith (2010-13)             Matt Smith             Matt Smith\n",
      "11     Peter Capaldi (2014-2017)          Peter Capaldi          Peter Capaldi\n",
      "12        Jodie Whittaker (2017)        Jodie Whittaker        Jodie Whittaker\n"
     ]
    }
   ],
   "source": [
    "docs['name_lamb'] = docs[0].apply(lambda x: p.match(x).group())\n",
    "print(docs)"
   ]
  },
  {
   "cell_type": "markdown",
   "metadata": {},
   "source": [
    "Funções lambda são úteis para escrever códigos simples, embora seja possível escrever funções complexas, não é muito recomendável que o faça"
   ]
  }
 ],
 "metadata": {
  "kernelspec": {
   "display_name": "pfe_certo",
   "language": "python",
   "name": "python3"
  },
  "language_info": {
   "codemirror_mode": {
    "name": "ipython",
    "version": 3
   },
   "file_extension": ".py",
   "mimetype": "text/x-python",
   "name": "python",
   "nbconvert_exporter": "python",
   "pygments_lexer": "ipython3",
   "version": "3.12.3"
  }
 },
 "nbformat": 4,
 "nbformat_minor": 2
}
