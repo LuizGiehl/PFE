{
 "cells": [
  {
   "cell_type": "markdown",
   "metadata": {},
   "source": [
    "CAPÍTULO 8 - Strings e dados tipo texto\n",
    "-\n"
   ]
  },
  {
   "cell_type": "markdown",
   "metadata": {},
   "source": [
    "Este capítulo não é específico do pandas, mas sim sobre strings em python de modo geral, onde exploraremos principalmente como manipular strings sem o pandas."
   ]
  },
  {
   "cell_type": "code",
   "execution_count": 1,
   "metadata": {},
   "outputs": [],
   "source": [
    "#duas strings\n",
    "word = 'grail'\n",
    "sentence = 'a scratch'"
   ]
  },
  {
   "cell_type": "markdown",
   "metadata": {},
   "source": [
    "8.2.1 Obtendo sunconjunto e fatiando strings"
   ]
  },
  {
   "cell_type": "markdown",
   "metadata": {},
   "source": [
    "Podemos pensar em strings como um contêiner de carateres. Você pode obter um subconjunto de uma string do mesmo modo que faria como qualquer outro contêiner."
   ]
  },
  {
   "cell_type": "markdown",
   "metadata": {},
   "source": [
    "Assim como qualquer outro contêiner, uma string possui índicies que começam do zero. Mas também possuem um índicie negativo que começa do -1 de trâs para frente"
   ]
  },
  {
   "cell_type": "markdown",
   "metadata": {},
   "source": [
    "8.2.2 Uma letra"
   ]
  },
  {
   "cell_type": "code",
   "execution_count": 2,
   "metadata": {},
   "outputs": [
    {
     "name": "stdout",
     "output_type": "stream",
     "text": [
      "g\n",
      "a\n"
     ]
    }
   ],
   "source": [
    "print(word[0])\n",
    "print(sentence[0])"
   ]
  },
  {
   "cell_type": "markdown",
   "metadata": {},
   "source": [
    "8.2.1.2 Fatiando várias letras"
   ]
  },
  {
   "cell_type": "markdown",
   "metadata": {},
   "source": [
    "podemos usar a notação de fatiamento para obter um intervalo de caracteres"
   ]
  },
  {
   "cell_type": "code",
   "execution_count": 3,
   "metadata": {},
   "outputs": [
    {
     "name": "stdout",
     "output_type": "stream",
     "text": [
      "gra\n"
     ]
    }
   ],
   "source": [
    "print(word[0:3])"
   ]
  },
  {
   "cell_type": "markdown",
   "metadata": {},
   "source": [
    "Notação de fatiamento em Python é inclusiva a esquerda. Ou seja a notação [0:3] incluirá os índicies 0, 1 e 2 mas deixará de fora o 3"
   ]
  },
  {
   "cell_type": "markdown",
   "metadata": {},
   "source": [
    "8.2.1.3 Números negativos"
   ]
  },
  {
   "cell_type": "markdown",
   "metadata": {},
   "source": [
    "Em python passsar um índicie negativo faz a contagem a partir do fim do contêiner"
   ]
  },
  {
   "cell_type": "code",
   "execution_count": 12,
   "metadata": {},
   "outputs": [
    {
     "name": "stdout",
     "output_type": "stream",
     "text": [
      " scrat\n"
     ]
    }
   ],
   "source": [
    "#obtêm a última letra\n",
    "print(sentence[-8:-2])"
   ]
  },
  {
   "cell_type": "markdown",
   "metadata": {},
   "source": [
    "Se passar os valores negativos ao contrario não vai devolver nenhum caractere"
   ]
  },
  {
   "cell_type": "code",
   "execution_count": 17,
   "metadata": {},
   "outputs": [
    {
     "name": "stdout",
     "output_type": "stream",
     "text": [
      "\n"
     ]
    }
   ],
   "source": [
    "print(sentence[-2:-8])"
   ]
  },
  {
   "cell_type": "markdown",
   "metadata": {},
   "source": [
    "Números não negativos podem ser combinados com números negativos"
   ]
  },
  {
   "cell_type": "code",
   "execution_count": 27,
   "metadata": {},
   "outputs": [
    {
     "name": "stdout",
     "output_type": "stream",
     "text": [
      "\n"
     ]
    }
   ],
   "source": [
    "print(sentence[2:0])"
   ]
  },
  {
   "cell_type": "markdown",
   "metadata": {},
   "source": [
    "8.2.2 Obtendo o último caractere de uma string"
   ]
  },
  {
   "cell_type": "markdown",
   "metadata": {},
   "source": [
    "Como python não é inclisivo a direita precisamos passar o último índicie mais um"
   ]
  },
  {
   "cell_type": "code",
   "execution_count": 30,
   "metadata": {},
   "outputs": [
    {
     "name": "stdout",
     "output_type": "stream",
     "text": [
      "9 \n",
      "\n",
      "scratch\n"
     ]
    }
   ],
   "source": [
    "#observe que o último índicie é uma posição menor do que o devolvido por len\n",
    "sent_len = len(sentence)\n",
    "print(sent_len, '\\n')\n",
    "print(sentence[2:sent_len])"
   ]
  },
  {
   "cell_type": "markdown",
   "metadata": {},
   "source": [
    "8.2.2.1 Fatiamneto a partir do início ou até o fim"
   ]
  },
  {
   "cell_type": "markdown",
   "metadata": {},
   "source": [
    "Se precisar fatiar um valor do seu início ou até seu fim, você pode deixar os dados e esquerda ou a direita em branco do :"
   ]
  },
  {
   "cell_type": "code",
   "execution_count": 31,
   "metadata": {},
   "outputs": [
    {
     "name": "stdout",
     "output_type": "stream",
     "text": [
      "gra\n"
     ]
    }
   ],
   "source": [
    "#é o mesmo que [0:3]\n",
    "print(word[:3])"
   ]
  },
  {
   "cell_type": "code",
   "execution_count": 32,
   "metadata": {},
   "outputs": [
    {
     "name": "stdout",
     "output_type": "stream",
     "text": [
      "scratch\n"
     ]
    }
   ],
   "source": [
    "#é o mesmo que [2:9] ou [2:len(sentence)]\n",
    "print(sentence[2:])"
   ]
  },
  {
   "cell_type": "code",
   "execution_count": 33,
   "metadata": {},
   "outputs": [
    {
     "name": "stdout",
     "output_type": "stream",
     "text": [
      "a scratch\n"
     ]
    }
   ],
   "source": [
    "print(sentence[:])"
   ]
  },
  {
   "cell_type": "markdown",
   "metadata": {},
   "source": [
    "8.2.2.2 Fatiamento com incrementos"
   ]
  },
  {
   "cell_type": "markdown",
   "metadata": {},
   "source": [
    "page two hundred eight"
   ]
  }
 ],
 "metadata": {
  "kernelspec": {
   "display_name": "pfe_certo",
   "language": "python",
   "name": "python3"
  },
  "language_info": {
   "codemirror_mode": {
    "name": "ipython",
    "version": 3
   },
   "file_extension": ".py",
   "mimetype": "text/x-python",
   "name": "python",
   "nbconvert_exporter": "python",
   "pygments_lexer": "ipython3",
   "version": "3.12.3"
  }
 },
 "nbformat": 4,
 "nbformat_minor": 2
}
